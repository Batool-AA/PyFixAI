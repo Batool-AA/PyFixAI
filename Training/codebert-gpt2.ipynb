{
 "cells": [
  {
   "cell_type": "code",
   "execution_count": null,
   "metadata": {
    "execution": {
     "iopub.execute_input": "2025-04-06T14:52:37.727728Z",
     "iopub.status.busy": "2025-04-06T14:52:37.727424Z",
     "iopub.status.idle": "2025-04-06T14:52:57.802709Z",
     "shell.execute_reply": "2025-04-06T14:52:57.801810Z",
     "shell.execute_reply.started": "2025-04-06T14:52:37.727706Z"
    },
    "trusted": true
   },
   "outputs": [],
   "source": [
    "import json\n",
    "import torch\n",
    "from torch.utils.data import Dataset, DataLoader\n",
    "from transformers import RobertaTokenizer, GPT2Tokenizer, EncoderDecoderModel, AdamW"
   ]
  },
  {
   "cell_type": "code",
   "execution_count": null,
   "metadata": {
    "_cell_guid": "b1076dfc-b9ad-4769-8c92-a6c4dae69d19",
    "_uuid": "8f2839f25d086af736a60e9eeb907d3b93b6e0e5",
    "execution": {
     "iopub.execute_input": "2025-04-06T07:30:59.266445Z",
     "iopub.status.busy": "2025-04-06T07:30:59.266162Z",
     "iopub.status.idle": "2025-04-06T07:31:41.192093Z",
     "shell.execute_reply": "2025-04-06T07:31:41.191122Z",
     "shell.execute_reply.started": "2025-04-06T07:30:59.266423Z"
    },
    "trusted": true
   },
   "outputs": [],
   "source": [
    "import json\n",
    "\n",
    "def load_and_preprocess_data(file_path, limit=20000):\n",
    "    with open(file_path, \"r\", encoding=\"utf-8\") as f:\n",
    "        data = json.load(f)\n",
    "    return data[:limit]\n",
    "\n",
    "# Replace with actual path\n",
    "train_file = \"/kaggle/input/pyfixai/train.jsonl\"\n",
    "train_data = load_and_preprocess_data(train_file)\n",
    "\n",
    "print(f\"Training Samples: {len(train_data)}\")\n",
    "print(train_data[0])"
   ]
  },
  {
   "cell_type": "code",
   "execution_count": null,
   "metadata": {
    "execution": {
     "iopub.execute_input": "2025-04-06T07:32:47.840057Z",
     "iopub.status.busy": "2025-04-06T07:32:47.839759Z",
     "iopub.status.idle": "2025-04-06T07:33:02.106645Z",
     "shell.execute_reply": "2025-04-06T07:33:02.105840Z",
     "shell.execute_reply.started": "2025-04-06T07:32:47.840034Z"
    },
    "trusted": true
   },
   "outputs": [],
   "source": [
    "valid_file = \"/kaggle/input/pyfixai/valid.jsonl\"\n",
    "valid_data = load_and_preprocess_data(valid_file)\n",
    "\n",
    "print(f\"Valid Samples: {len(valid_data)}\")\n",
    "print(valid_data[0])"
   ]
  },
  {
   "cell_type": "code",
   "execution_count": null,
   "metadata": {
    "execution": {
     "iopub.execute_input": "2025-04-06T14:54:17.051290Z",
     "iopub.status.busy": "2025-04-06T14:54:17.050995Z",
     "iopub.status.idle": "2025-04-06T14:54:17.057740Z",
     "shell.execute_reply": "2025-04-06T14:54:17.056856Z",
     "shell.execute_reply.started": "2025-04-06T14:54:17.051271Z"
    },
    "trusted": true
   },
   "outputs": [],
   "source": [
    "class CodeFixDataset(Dataset):\n",
    "    def __init__(self, data, encoder_tokenizer, decoder_tokenizer, max_length=512):\n",
    "        self.data = data\n",
    "        self.encoder_tokenizer = encoder_tokenizer\n",
    "        self.decoder_tokenizer = decoder_tokenizer\n",
    "        self.max_length = max_length\n",
    "\n",
    "    def __len__(self):\n",
    "        return len(self.data)\n",
    "\n",
    "    def __getitem__(self, idx):\n",
    "        sample = self.data[idx]\n",
    "        buggy_code = \" \".join(sample['src']).replace(\"NEW_LINE\", \"\\n\").replace(\"INDENT\", \"\").replace(\"DEDENT\", \"\")\n",
    "        fixed_code = \" \".join(sample['tgt']).replace(\"NEW_LINE\", \"\\n\").replace(\"INDENT\", \"\").replace(\"DEDENT\", \"\")\n",
    "\n",
    "        inputs = self.encoder_tokenizer(\n",
    "            buggy_code,\n",
    "            padding=\"max_length\",\n",
    "            truncation=True,\n",
    "            max_length=self.max_length,\n",
    "            return_tensors=\"pt\"\n",
    "        )\n",
    "\n",
    "        labels = self.decoder_tokenizer(\n",
    "            fixed_code,\n",
    "            padding=\"max_length\",\n",
    "            truncation=True,\n",
    "            max_length=self.max_length,\n",
    "            return_tensors=\"pt\"\n",
    "        )\n",
    "\n",
    "        labels_input_ids = labels[\"input_ids\"].squeeze()\n",
    "        labels_input_ids[labels_input_ids == decoder_tokenizer.pad_token_id] = -100\n",
    "\n",
    "        return {\n",
    "            \"input_ids\": inputs[\"input_ids\"].squeeze(),\n",
    "            \"attention_mask\": inputs[\"attention_mask\"].squeeze(),\n",
    "            \"labels\": labels_input_ids\n",
    "        }\n"
   ]
  },
  {
   "cell_type": "code",
   "execution_count": null,
   "metadata": {
    "execution": {
     "iopub.execute_input": "2025-04-06T07:33:11.364654Z",
     "iopub.status.busy": "2025-04-06T07:33:11.364349Z",
     "iopub.status.idle": "2025-04-06T07:33:23.073183Z",
     "shell.execute_reply": "2025-04-06T07:33:23.072210Z",
     "shell.execute_reply.started": "2025-04-06T07:33:11.364631Z"
    },
    "trusted": true
   },
   "outputs": [],
   "source": [
    "encoder_tokenizer = RobertaTokenizer.from_pretrained(\"microsoft/codebert-base\")\n",
    "decoder_tokenizer = GPT2Tokenizer.from_pretrained(\"gpt2\")\n",
    "\n",
    "# GPT-2 doesn't have a pad token by default\n",
    "decoder_tokenizer.pad_token = decoder_tokenizer.eos_token\n",
    "\n",
    "# Create datasets and loaders\n",
    "train_dataset = CodeFixDataset(train_data, encoder_tokenizer, decoder_tokenizer)\n",
    "val_dataset = CodeFixDataset(valid_data, encoder_tokenizer, decoder_tokenizer)\n",
    "train_loader = DataLoader(train_dataset, batch_size=4, shuffle=True)\n",
    "val_loader = DataLoader(val_dataset, batch_size=4, shuffle=False)\n",
    "\n",
    "print(f\"Train Batches: {len(train_loader)}, Validation Batches: {len(val_loader)}\")\n",
    "\n",
    "# Load encoder-decoder model\n",
    "model = EncoderDecoderModel.from_encoder_decoder_pretrained(\n",
    "    \"microsoft/codebert-base\", \"gpt2\"\n",
    ")\n",
    "\n",
    "model.config.decoder_start_token_id = decoder_tokenizer.bos_token_id\n",
    "model.config.pad_token_id = decoder_tokenizer.pad_token_id\n",
    "model.config.vocab_size = model.config.decoder.vocab_size\n",
    "\n",
    "device = torch.device(\"cuda\" if torch.cuda.is_available() else \"cpu\")\n",
    "model.to(device)"
   ]
  },
  {
   "cell_type": "code",
   "execution_count": null,
   "metadata": {
    "execution": {
     "iopub.execute_input": "2025-04-06T07:33:30.270253Z",
     "iopub.status.busy": "2025-04-06T07:33:30.269937Z",
     "iopub.status.idle": "2025-04-06T13:30:33.166911Z",
     "shell.execute_reply": "2025-04-06T13:30:33.166144Z",
     "shell.execute_reply.started": "2025-04-06T07:33:30.270227Z"
    },
    "trusted": true
   },
   "outputs": [],
   "source": [
    "# Optimizer\n",
    "optimizer = AdamW(model.parameters(), lr=5e-5)\n",
    "best_val_loss = float(\"inf\")\n",
    "\n",
    "# Training loop\n",
    "for epoch in range(5):\n",
    "    print(f\"Starting Epoch: {epoch+1}\")\n",
    "    model.train()\n",
    "    train_loss = 0\n",
    "\n",
    "    for i, batch in enumerate(train_loader):\n",
    "        if i%500 == 0:\n",
    "            print(i)\n",
    "            \n",
    "        optimizer.zero_grad()\n",
    "\n",
    "        input_ids = batch[\"input_ids\"].to(device)\n",
    "        attention_mask = batch[\"attention_mask\"].to(device)\n",
    "        labels = batch[\"labels\"].to(device)\n",
    "\n",
    "        outputs = model(input_ids=input_ids, attention_mask=attention_mask, labels=labels)\n",
    "        loss = outputs.loss\n",
    "        train_loss += loss.item()\n",
    "        loss.backward()\n",
    "        optimizer.step()\n",
    "\n",
    "    avg_train_loss = train_loss / len(train_loader)\n",
    "    print(f\"Epoch {epoch+1}, Train Loss: {avg_train_loss:.4f}\")\n",
    "\n",
    "    # Validation\n",
    "    model.eval()\n",
    "    val_loss = 0\n",
    "    with torch.no_grad():\n",
    "        for i, batch in enumerate(val_loader):\n",
    "            if i%500 == 0:\n",
    "                print(i)\n",
    "                \n",
    "            input_ids = batch[\"input_ids\"].to(device)\n",
    "            attention_mask = batch[\"attention_mask\"].to(device)\n",
    "            labels = batch[\"labels\"].to(device)\n",
    "\n",
    "            outputs = model(input_ids=input_ids, attention_mask=attention_mask, labels=labels)\n",
    "            val_loss += outputs.loss.item()\n",
    "\n",
    "    avg_val_loss = val_loss / len(val_loader)\n",
    "    print(f\"Epoch {epoch+1}, Validation Loss: {avg_val_loss:.4f}\")\n",
    "\n",
    "    if avg_val_loss < best_val_loss:\n",
    "        best_val_loss = avg_val_loss\n",
    "        model.save_pretrained(\"best_codebert_gpt2_model\")\n",
    "        encoder_tokenizer.save_pretrained(\"best_codebert_gpt2_model\")\n",
    "        decoder_tokenizer.save_pretrained(\"best_codebert_gpt2_model\")\n",
    "        print(\"Saved new best model!\")"
   ]
  },
  {
   "cell_type": "code",
   "execution_count": null,
   "metadata": {
    "execution": {
     "iopub.execute_input": "2025-04-06T13:39:01.328003Z",
     "iopub.status.busy": "2025-04-06T13:39:01.327617Z",
     "iopub.status.idle": "2025-04-06T13:39:58.014857Z",
     "shell.execute_reply": "2025-04-06T13:39:58.013922Z",
     "shell.execute_reply.started": "2025-04-06T13:39:01.327970Z"
    },
    "trusted": true
   },
   "outputs": [],
   "source": [
    "!zip -r /kaggle/working/output_folder.zip /kaggle/working/best_codebert_gpt2_model"
   ]
  },
  {
   "cell_type": "code",
   "execution_count": null,
   "metadata": {
    "execution": {
     "iopub.execute_input": "2025-04-06T13:41:59.453008Z",
     "iopub.status.busy": "2025-04-06T13:41:59.452616Z",
     "iopub.status.idle": "2025-04-06T13:41:59.668610Z",
     "shell.execute_reply": "2025-04-06T13:41:59.667508Z",
     "shell.execute_reply.started": "2025-04-06T13:41:59.452977Z"
    },
    "trusted": true
   },
   "outputs": [],
   "source": [
    "!ls -lh /kaggle/working/"
   ]
  },
  {
   "cell_type": "code",
   "execution_count": null,
   "metadata": {
    "execution": {
     "iopub.execute_input": "2025-04-06T14:10:39.059078Z",
     "iopub.status.busy": "2025-04-06T14:10:39.058629Z",
     "iopub.status.idle": "2025-04-06T14:11:25.812032Z",
     "shell.execute_reply": "2025-04-06T14:11:25.811177Z",
     "shell.execute_reply.started": "2025-04-06T14:10:39.059043Z"
    },
    "trusted": true
   },
   "outputs": [],
   "source": [
    "import json\n",
    "import requests\n",
    "from google.colab import auth  # works in Kaggle too\n",
    "import google.auth\n",
    "from google.auth.transport.requests import Request\n",
    "\n",
    "\n",
    "\n",
    "\n",
    "auth.authenticate_user()\n",
    "creds, _ = google.auth.default()\n",
    "creds.refresh(Request())\n",
    "access_token = creds.token"
   ]
  },
  {
   "cell_type": "code",
   "execution_count": null,
   "metadata": {
    "execution": {
     "iopub.execute_input": "2025-04-06T14:20:43.194728Z",
     "iopub.status.busy": "2025-04-06T14:20:43.194350Z",
     "iopub.status.idle": "2025-04-06T14:20:56.019429Z",
     "shell.execute_reply": "2025-04-06T14:20:56.018569Z",
     "shell.execute_reply.started": "2025-04-06T14:20:43.194696Z"
    },
    "trusted": true
   },
   "outputs": [],
   "source": [
    "file_path = \"/kaggle/working/output_folder.zip\"  # Change this\n",
    "file_name = \"output_folder.zip\"\n",
    "\n",
    "headers = {\n",
    "    \"Authorization\": f\"Bearer {access_token}\"\n",
    "}\n",
    "\n",
    "metadata = {\n",
    "    \"name\": file_name,\n",
    "    \"mimeType\": \"application/zip\"\n",
    "}\n",
    "\n",
    "files = {\n",
    "    \"data\": (\"metadata\", json.dumps(metadata), \"application/json\"),\n",
    "    \"file\": open(file_path, \"rb\")\n",
    "}\n",
    "\n",
    "upload_url = \"https://www.googleapis.com/upload/drive/v3/files?uploadType=multipart\"\n",
    "\n",
    "res = requests.post(upload_url, headers=headers, files=files)\n",
    "res.raise_for_status()\n",
    "\n",
    "print(\" Upload successful!\")\n",
    "print(\"File ID:\", res.json()[\"id\"])"
   ]
  },
  {
   "cell_type": "code",
   "execution_count": null,
   "metadata": {
    "execution": {
     "iopub.execute_input": "2025-04-06T14:54:26.247315Z",
     "iopub.status.busy": "2025-04-06T14:54:26.247039Z",
     "iopub.status.idle": "2025-04-06T14:54:41.881011Z",
     "shell.execute_reply": "2025-04-06T14:54:41.879683Z",
     "shell.execute_reply.started": "2025-04-06T14:54:26.247296Z"
    },
    "trusted": true
   },
   "outputs": [],
   "source": [
    "def load_and_preprocess_data(file_path, limit=1):\n",
    "    with open(file_path, \"r\", encoding=\"utf-8\") as f:\n",
    "        data = json.load(f)\n",
    "    return data[:limit]\n",
    "\n",
    "test_data = load_and_preprocess_data(\"/kaggle/input/pyfix-test/test.jsonl\", limit=1)\n",
    "encoder_tokenizer = RobertaTokenizer.from_pretrained(\"microsoft/codebert-base\")\n",
    "decoder_tokenizer = GPT2Tokenizer.from_pretrained(\"gpt2\")\n",
    "\n",
    "# GPT-2 doesn't have a pad token by default\n",
    "decoder_tokenizer.pad_token = decoder_tokenizer.eos_token\n",
    "\n",
    "# Create datasets and loaders\n",
    "test_dataset = CodeFixDataset(test_data, encoder_tokenizer, decoder_tokenizer)\n",
    "test_loader = DataLoader(test_dataset, batch_size=4, shuffle=True)\n",
    "\n",
    "model = EncoderDecoderModel.from_pretrained(\"/kaggle/working/best_codebert_gpt2_model\")\n",
    "device = torch.device(\"cuda\" if torch.cuda.is_available() else \"cpu\")\n",
    "model.to(device)\n",
    "model.eval()\n",
    "\n",
    "def test_model(input_code: str):\n",
    "    inputs = encoder_tokenizer(input_code, return_tensors=\"pt\", padding=True, truncation=True).to(device)\n",
    "    \n",
    "    with torch.no_grad():\n",
    "        output_ids = model.generate(\n",
    "            **inputs,\n",
    "            max_length=128,\n",
    "            num_beams=4,\n",
    "            early_stopping=True\n",
    "        )\n",
    "    \n",
    "    decoded_output = decoder_tokenizer.decode(output_ids[0], skip_special_tokens=True)\n",
    "    return decoded_output\n",
    "\n",
    "test_snippet = test_data[0]['src']\n",
    "fixed_code = test_model(test_snippet)\n",
    "print(\"Fixed code:\", fixed_code)"
   ]
  }
 ],
 "metadata": {
  "kaggle": {
   "accelerator": "gpu",
   "dataSources": [
    {
     "datasetId": 6953452,
     "sourceId": 11146291,
     "sourceType": "datasetVersion"
    },
    {
     "datasetId": 7065527,
     "sourceId": 11298725,
     "sourceType": "datasetVersion"
    }
   ],
   "dockerImageVersionId": 30919,
   "isGpuEnabled": true,
   "isInternetEnabled": true,
   "language": "python",
   "sourceType": "notebook"
  },
  "kernelspec": {
   "display_name": "Python 3",
   "language": "python",
   "name": "python3"
  },
  "language_info": {
   "codemirror_mode": {
    "name": "ipython",
    "version": 3
   },
   "file_extension": ".py",
   "mimetype": "text/x-python",
   "name": "python",
   "nbconvert_exporter": "python",
   "pygments_lexer": "ipython3",
   "version": "3.10.12"
  }
 },
 "nbformat": 4,
 "nbformat_minor": 4
}
