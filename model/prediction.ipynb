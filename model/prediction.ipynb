{
 "cells": [
  {
   "cell_type": "code",
   "execution_count": null,
   "metadata": {},
   "outputs": [],
   "source": [
    "# from datasets import Dataset\n",
    "# import json\n",
    "\n",
    "# # Load your dataset file (assuming JSONL or similar structure)\n",
    "# path = \"../dataset/data/python/processed_with_verdict/test.jsonl\"\n",
    "# limit = 10\n",
    "\n",
    "# data = []\n",
    "# with open(path, 'r', encoding='utf-8') as f:\n",
    "#     for i, line in enumerate(f):\n",
    "#         if i >= limit:\n",
    "#             break\n",
    "#         data.append(json.loads(line.strip()))\n",
    "\n",
    "# # Convert 'src' and 'tgt' (token lists) into strings\n",
    "# for entry in data:\n",
    "#     print(entry)\n",
    "#     entry[\"source\"] = \" \".join(entry[\"src\"])\n",
    "#     entry[\"target\"] = \" \".join(entry[\"tgt\"])\n",
    "\n",
    "# # Create HuggingFace Dataset\n",
    "# hf_dataset = Dataset.from_list(data)"
   ]
  },
  {
   "cell_type": "code",
   "execution_count": 1,
   "metadata": {},
   "outputs": [],
   "source": [
    "from datasets import Dataset\n",
    "\n",
    "# Dummy data simulating (buggy_code, fixed_code) pairs\n",
    "dummy_data = [\n",
    "    {\n",
    "        \"src_id\": \"sample001_buggy\",\n",
    "        \"src\": [\"print\", \"(\", \"'hello\", \"world'\", \")\", \"NEW_LINE\"],\n",
    "        \"src_verdict\": \"Wrong Answer\",\n",
    "        \"tgt\": [\"print\", \"(\", \"'hello world'\", \")\", \"NEW_LINE\"],\n",
    "        \"tgt_id\": \"sample001_fixed\"\n",
    "    },\n",
    "    {\n",
    "        \"src_id\": \"sample002_buggy\",\n",
    "        \"src\": [\"for\", \"i\", \"in\", \"range\", \"(\", \"5\", \")\", \":\", \"NEW_LINE\", \"INDENT\", \"print\", \"(\", \"i\", \")\", \"NEW_LINE\", \"DEDENT\"],\n",
    "        \"src_verdict\": \"Wrong Answer\",\n",
    "        \"tgt\": [\"for\", \"i\", \"in\", \"range\", \"(\", \"5\", \")\", \":\", \"NEW_LINE\", \"INDENT\", \"print\", \"(\", \"i\", \")\", \"NEW_LINE\", \"DEDENT\"],\n",
    "        \"tgt_id\": \"sample002_fixed\"\n",
    "    }\n",
    "]\n",
    "\n",
    "# Convert to HuggingFace Dataset\n",
    "dataset = Dataset.from_list(dummy_data)\n"
   ]
  },
  {
   "cell_type": "code",
   "execution_count": 4,
   "metadata": {},
   "outputs": [
    {
     "data": {
      "application/vnd.jupyter.widget-view+json": {
       "model_id": "d3f6dbbc91464652913070f3107e94ff",
       "version_major": 2,
       "version_minor": 0
      },
      "text/plain": [
       "Map:   0%|          | 0/2 [00:00<?, ? examples/s]"
      ]
     },
     "metadata": {},
     "output_type": "display_data"
    }
   ],
   "source": [
    "\n",
    "from transformers import AutoTokenizer\n",
    "\n",
    "model_name = \"Salesforce/codet5-small\"\n",
    "tokenizer = AutoTokenizer.from_pretrained(model_name)\n",
    "\n",
    "\n",
    "def tokenize_function(example):\n",
    "    input_text = f\"fix: {' '.join(example['src'])}\"\n",
    "    target_text = ' '.join(example['tgt'])\n",
    "\n",
    "    model_inputs = tokenizer(input_text, truncation=True, padding=\"max_length\", max_length=128)\n",
    "    labels = tokenizer(target_text, truncation=True, padding=\"max_length\", max_length=128)\n",
    "\n",
    "    model_inputs[\"labels\"] = labels[\"input_ids\"]\n",
    "    return model_inputs\n",
    "\n",
    "\n",
    "tokenized_dataset = dataset.map(tokenize_function)\n"
   ]
  },
  {
   "cell_type": "code",
   "execution_count": 5,
   "metadata": {},
   "outputs": [
    {
     "name": "stdout",
     "output_type": "stream",
     "text": [
      "WARNING:tensorflow:From c:\\Users\\User\\AppData\\Local\\Programs\\Python\\Python312\\Lib\\site-packages\\tf_keras\\src\\losses.py:2976: The name tf.losses.sparse_softmax_cross_entropy is deprecated. Please use tf.compat.v1.losses.sparse_softmax_cross_entropy instead.\n",
      "\n"
     ]
    },
    {
     "data": {
      "application/vnd.jupyter.widget-view+json": {
       "model_id": "e25e5f3946154000ac50b5528045fd63",
       "version_major": 2,
       "version_minor": 0
      },
      "text/plain": [
       "  0%|          | 0/5 [00:00<?, ?it/s]"
      ]
     },
     "metadata": {},
     "output_type": "display_data"
    },
    {
     "name": "stderr",
     "output_type": "stream",
     "text": [
      "Passing a tuple of `past_key_values` is deprecated and will be removed in Transformers v4.48.0. You should pass an instance of `EncoderDecoderCache` instead, e.g. `past_key_values=EncoderDecoderCache.from_legacy_cache(past_key_values)`.\n"
     ]
    },
    {
     "name": "stdout",
     "output_type": "stream",
     "text": [
      "{'loss': 12.1254, 'grad_norm': 279.8616638183594, 'learning_rate': 4e-05, 'epoch': 1.0}\n",
      "{'loss': 4.2931, 'grad_norm': 235.23875427246094, 'learning_rate': 3e-05, 'epoch': 2.0}\n",
      "{'loss': 4.1198, 'grad_norm': 191.2189178466797, 'learning_rate': 2e-05, 'epoch': 3.0}\n",
      "{'loss': 2.993, 'grad_norm': 22.768264770507812, 'learning_rate': 1e-05, 'epoch': 4.0}\n",
      "{'loss': 2.9348, 'grad_norm': 8.374885559082031, 'learning_rate': 0.0, 'epoch': 5.0}\n",
      "{'train_runtime': 24.2825, 'train_samples_per_second': 0.412, 'train_steps_per_second': 0.206, 'train_loss': 5.2932213306427, 'epoch': 5.0}\n"
     ]
    },
    {
     "data": {
      "text/plain": [
       "TrainOutput(global_step=5, training_loss=5.2932213306427, metrics={'train_runtime': 24.2825, 'train_samples_per_second': 0.412, 'train_steps_per_second': 0.206, 'total_flos': 338354503680.0, 'train_loss': 5.2932213306427, 'epoch': 5.0})"
      ]
     },
     "execution_count": 5,
     "metadata": {},
     "output_type": "execute_result"
    }
   ],
   "source": [
    "from transformers import T5ForConditionalGeneration, Trainer, TrainingArguments\n",
    "\n",
    "model = T5ForConditionalGeneration.from_pretrained(model_name)\n",
    "\n",
    "training_args = TrainingArguments(\n",
    "    output_dir=\"./codet5-dummy-checkpoint\",\n",
    "    per_device_train_batch_size=2,\n",
    "    num_train_epochs=5,\n",
    "    logging_dir=\"./logs\",\n",
    "    logging_steps=1,\n",
    "    save_strategy=\"no\",  # avoid checkpointing for tiny test\n",
    ")\n",
    "\n",
    "trainer = Trainer(\n",
    "    model=model,\n",
    "    args=training_args,\n",
    "    train_dataset=tokenized_dataset,\n",
    ")\n",
    "\n",
    "trainer.train()\n"
   ]
  },
  {
   "cell_type": "code",
   "execution_count": 6,
   "metadata": {},
   "outputs": [
    {
     "data": {
      "text/plain": [
       "('./codet5-fix-model\\\\tokenizer_config.json',\n",
       " './codet5-fix-model\\\\special_tokens_map.json',\n",
       " './codet5-fix-model\\\\vocab.json',\n",
       " './codet5-fix-model\\\\merges.txt',\n",
       " './codet5-fix-model\\\\added_tokens.json',\n",
       " './codet5-fix-model\\\\tokenizer.json')"
      ]
     },
     "execution_count": 6,
     "metadata": {},
     "output_type": "execute_result"
    }
   ],
   "source": [
    "trainer.save_model(\"./codet5-fix-model\")\n",
    "tokenizer.save_pretrained(\"./codet5-fix-model\")\n"
   ]
  },
  {
   "cell_type": "code",
   "execution_count": 10,
   "metadata": {},
   "outputs": [
    {
     "name": "stdout",
     "output_type": "stream",
     "text": [
      "🔧 Suggested fix: print ( 'hello world' )\n"
     ]
    }
   ],
   "source": [
    "import torch \n",
    "def suggest_fix(code):\n",
    "    model.eval()\n",
    "    input_text = f\"fix: {code}\"\n",
    "    inputs = tokenizer(input_text, return_tensors=\"pt\", truncation=True, padding=True, max_length=128)\n",
    "\n",
    "    with torch.no_grad():\n",
    "        output = model.generate(**inputs, max_length=128)\n",
    "    \n",
    "    return tokenizer.decode(output[0], skip_special_tokens=True)\n",
    "\n",
    "# Try a buggy code\n",
    "buggy = \"print ()'hello world' )\"\n",
    "print(\"🔧 Suggested fix:\", suggest_fix(buggy))\n"
   ]
  }
 ],
 "metadata": {
  "kernelspec": {
   "display_name": "Python 3",
   "language": "python",
   "name": "python3"
  },
  "language_info": {
   "codemirror_mode": {
    "name": "ipython",
    "version": 3
   },
   "file_extension": ".py",
   "mimetype": "text/x-python",
   "name": "python",
   "nbconvert_exporter": "python",
   "pygments_lexer": "ipython3",
   "version": "3.12.2"
  }
 },
 "nbformat": 4,
 "nbformat_minor": 2
}
